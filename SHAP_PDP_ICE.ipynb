{
 "cells": [
  {
   "cell_type": "code",
   "execution_count": null,
   "id": "b47c4d88",
   "metadata": {},
   "outputs": [],
   "source": [
    "import numpy as np\n",
    "import pandas as pd\n",
    "from xgboost import xgb\n",
    "from sklearn.model_selection import train_test_split\n",
    "from sklearn.svm import SVR\n",
    "from sklearn.ensemble import RandomForestRegressor\n",
    "from sklearn.metrics import mean_squared_error, mean_absolute_error, r2_score\n",
    "\n",
    "data_list=pd.read_excel(r'D:\\data.xlsx', header=0)\n",
    "X=data_list[['urea','Cl','HCO','NH', 'temp', 'PDS']]\n",
    "y=data_list['kobs']\n",
    "\n",
    "X_train, X_test, y_train, y_test = train_test_split(X, y, test_size=0.3, random_state=21)\n",
    "\n",
    "#Enter test model parameters\n",
    "reg =xgb()\n",
    "reg = SVR()\n",
    "reg = RandomForestRegressor()\n",
    "best_model=reg.fit(X_train, y_train)"
   ]
  },
  {
   "cell_type": "code",
   "execution_count": null,
   "id": "6769c89f",
   "metadata": {},
   "outputs": [],
   "source": [
    "import shap\n",
    "explainer=shap.TreeExplainer(best_model)\n",
    "shap_values=explainer(X)\n",
    "y_base=explainer.expected_value\n",
    "y_predict=best_model.predict(X)\n",
    "shap.initjs()\n",
    "shap.plots.beeswarm(shap_values)\n",
    "shap.plots.bar(shap_values)"
   ]
  },
  {
   "cell_type": "code",
   "execution_count": null,
   "id": "8ae5322f",
   "metadata": {},
   "outputs": [],
   "source": [
    "from sklearn.inspection import PartialDependenceDisplay\n",
    "import shap\n",
    "\n",
    "shap.plots.partial_dependence(\n",
    "  \"urea\", best_model.predict, X_train, ice=True,\n",
    "  model_expected_value=True, feature_expected_value=True\n",
    ")\n",
    "\n",
    "\n",
    "shap.plots.partial_dependence(\n",
    "  \"Cl\", best_model.predict, X_train, ice=True,\n",
    "  model_expected_value=True, feature_expected_value=True\n",
    ")\n",
    "\n",
    "shap.plots.partial_dependence(\n",
    "  \"HCO\",best_model.predict, X_train, ice=True,\n",
    "  model_expected_value=True, feature_expected_value=True\n",
    ")\n",
    "\n",
    "shap.plots.partial_dependence(\n",
    "  \"NH\", best_model.predict, X_train, ice=True,\n",
    "  model_expected_value=True, feature_expected_value=True\n",
    ")\n",
    "\n",
    "shap.plots.partial_dependence(\n",
    "  \"temp\", best_model.predict, X_train, ice=True,\n",
    "  model_expected_value=True, feature_expected_value=True\n",
    ")\n",
    "\n",
    "shap.plots.partial_dependence(\n",
    "  \"PDS\", best_model.predict, X_train, ice=True,\n",
    "  model_expected_value=True, feature_expected_value=True\n",
    ")"
   ]
  }
 ],
 "metadata": {
  "kernelspec": {
   "display_name": "Python 3 (ipykernel)",
   "language": "python",
   "name": "python3"
  },
  "language_info": {
   "codemirror_mode": {
    "name": "ipython",
    "version": 3
   },
   "file_extension": ".py",
   "mimetype": "text/x-python",
   "name": "python",
   "nbconvert_exporter": "python",
   "pygments_lexer": "ipython3",
   "version": "3.10.9"
  }
 },
 "nbformat": 4,
 "nbformat_minor": 5
}
